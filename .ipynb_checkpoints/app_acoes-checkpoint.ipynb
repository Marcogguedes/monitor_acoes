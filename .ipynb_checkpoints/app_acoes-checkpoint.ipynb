{
 "cells": [
  {
   "cell_type": "markdown",
   "metadata": {},
   "source": [
    "# Construção do script para montar o Dashboard"
   ]
  },
  {
   "cell_type": "markdown",
   "metadata": {},
   "source": [
    "### Importando as bibliotecas"
   ]
  },
  {
   "cell_type": "code",
   "execution_count": null,
   "metadata": {},
   "outputs": [],
   "source": [
    "import streamlit as st\n",
    "import pandas as pd\n",
    "import investpy as ip\n",
    "from datetime import datetime, timedelta\n",
    "import plotly.graph_objs as go"
   ]
  },
  {
   "cell_type": "code",
   "execution_count": null,
   "metadata": {},
   "outputs": [],
   "source": [
    "countries = ['Brazil', 'United States', 'Germany', 'Japan']\n",
    "intervals = ['Daily', 'Weekly', 'Monthly']"
   ]
  },
  {
   "cell_type": "code",
   "execution_count": null,
   "metadata": {},
   "outputs": [],
   "source": [
    "start_date = datetime.today() - timedelta(days=30)\n",
    "end_date = datetime.today()"
   ]
  },
  {
   "cell_type": "markdown",
   "metadata": {},
   "source": [
    "### Criando uma função para consultar os dados"
   ]
  },
  {
   "cell_type": "code",
   "execution_count": null,
   "metadata": {},
   "outputs": [],
   "source": [
    "@st.cache\n",
    "def consultar_acao(stock, country, from_date, to_date, interval):\n",
    "    df = ip.get_stock_historical_data(stock=stock, country=country, from_date=from_date, to_date=to_date, interval=interval)\n",
    "    return df"
   ]
  },
  {
   "cell_type": "markdown",
   "metadata": {},
   "source": [
    "### Criando uma função para defernir o formato da data"
   ]
  },
  {
   "cell_type": "code",
   "execution_count": null,
   "metadata": {},
   "outputs": [],
   "source": [
    "def format_date(dt, format='%d%m%Y'):\n",
    "    return dt.strftime(format)"
   ]
  },
  {
   "cell_type": "code",
   "execution_count": null,
   "metadata": {},
   "outputs": [],
   "source": [
    "def plotCandleStick(df, acao='ticket'):\n",
    "    tracel = {\n",
    "        'x': df.index,\n",
    "        'open': df.Open,\n",
    "        'close': df.Close,\n",
    "        'high': df.High,\n",
    "        'low': df.Low,\n",
    "        'type': 'candlestick',\n",
    "        'name': acao,\n",
    "        'showlegend': False\n",
    "    }\n",
    "    \n",
    "    data = [tracel]\n",
    "    layout = go.Layout()\n",
    "    \n",
    "    fig = go.Figure(data=data, layout=layout)\n",
    "    return fig"
   ]
  },
  {
   "cell_type": "markdown",
   "metadata": {},
   "source": [
    "### Iniciando a Criação do Dashboard"
   ]
  },
  {
   "cell_type": "code",
   "execution_count": null,
   "metadata": {},
   "outputs": [],
   "source": [
    "# Criando uma barra lateral\n",
    "barra_lateral = st.sidebar.empty()"
   ]
  },
  {
   "cell_type": "code",
   "execution_count": null,
   "metadata": {},
   "outputs": [],
   "source": [
    "# Inserindo o objeto selecionar País na barra lateral\n",
    "country_select = st.sidebar.selectbox(\"Selecione o País:\", countries)"
   ]
  },
  {
   "cell_type": "code",
   "execution_count": null,
   "metadata": {},
   "outputs": [],
   "source": [
    "# Selecionar ações dos paises de referência para retornar uma lista de ativos\n",
    "acoes = ip.get_stocks_list(country=country_select)"
   ]
  },
  {
   "cell_type": "code",
   "execution_count": null,
   "metadata": {},
   "outputs": [],
   "source": [
    "# Inserindo o objeto selecionar todos os ativos na barra lateral\n",
    "stock_select = st.sidebar.selectbox(\"Selecione as Ações:\", acoes)"
   ]
  },
  {
   "cell_type": "code",
   "execution_count": null,
   "metadata": {},
   "outputs": [],
   "source": [
    "# Inserindo o objeto e criando o componente de data na barra lateral\n",
    "from_date = st.sidebar.date_input(\"De:\", start_date)\n",
    "to_date = st.sidebar.date_input(\"Para:\", end_date)"
   ]
  },
  {
   "cell_type": "code",
   "execution_count": null,
   "metadata": {},
   "outputs": [],
   "source": [
    "# Inserindo o objeto selecionar intevalos na barra lateral\n",
    "interval_select = st.sidebar.selectbox(\"Selecione o invervalo:\", intervals)"
   ]
  },
  {
   "cell_type": "code",
   "execution_count": null,
   "metadata": {},
   "outputs": [],
   "source": [
    "carregar_dados = st.sidebar.checkbox('Carregar Dados')"
   ]
  },
  {
   "cell_type": "markdown",
   "metadata": {},
   "source": [
    "### Criando os elementos centrais do Dashboard"
   ]
  },
  {
   "cell_type": "code",
   "execution_count": null,
   "metadata": {},
   "outputs": [],
   "source": [
    "# Inserindo o título \n",
    "st.title('Monitor de Ações')"
   ]
  },
  {
   "cell_type": "code",
   "execution_count": null,
   "metadata": {},
   "outputs": [],
   "source": [
    "# Inserindo o cabeçalho\n",
    "st.header('Ações')"
   ]
  },
  {
   "cell_type": "code",
   "execution_count": null,
   "metadata": {},
   "outputs": [],
   "source": [
    "st.subheader('Visualização Gráfica')"
   ]
  },
  {
   "cell_type": "code",
   "execution_count": null,
   "metadata": {},
   "outputs": [],
   "source": [
    "# Inserindo o gráfico de candle\n",
    "grafico_candle = st.empty()"
   ]
  },
  {
   "cell_type": "code",
   "execution_count": null,
   "metadata": {},
   "outputs": [],
   "source": [
    "# Inserindo o gráfico de linha\n",
    "grafico_line = st.empty()"
   ]
  },
  {
   "cell_type": "code",
   "execution_count": null,
   "metadata": {},
   "outputs": [],
   "source": [
    "# Realizando a verificação da data\n",
    "if from_date > to_date:\n",
    "    st.sidebar.error('Data de inicio maior do que a data final')\n",
    "else:\n",
    "    df = consultar_acao(stock_select, country_select, format_date(from_date), format_date(to_date), interval_select)\n",
    "    try:\n",
    "        fig = plotCandleStick(df)\n",
    "        grafico_candle = st.plotly_chart(fig)\n",
    "        grafico_line = st.line_chart(df.Close)\n",
    "        \n",
    "        if carregar_dados:\n",
    "            st.subheader('Dados')\n",
    "            dados = st.dataframe(df)\n",
    "    except Exception as e:\n",
    "        st.error(e)"
   ]
  },
  {
   "cell_type": "markdown",
   "metadata": {},
   "source": [
    "# Fim"
   ]
  }
 ],
 "metadata": {
  "kernelspec": {
   "display_name": "Python 3",
   "language": "python",
   "name": "python3"
  },
  "language_info": {
   "codemirror_mode": {
    "name": "ipython",
    "version": 3
   },
   "file_extension": ".py",
   "mimetype": "text/x-python",
   "name": "python",
   "nbconvert_exporter": "python",
   "pygments_lexer": "ipython3",
   "version": "3.8.5"
  }
 },
 "nbformat": 4,
 "nbformat_minor": 4
}
